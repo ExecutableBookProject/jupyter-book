{
 "cells": [
  {
   "cell_type": "code",
   "execution_count": 40,
   "metadata": {},
   "outputs": [],
   "source": [
    "import os.path as op\n",
    "import os\n",
    "import shutil as sh\n",
    "from ruamel.yaml import YAML\n",
    "import nbformat as nbf"
   ]
  },
  {
   "cell_type": "code",
   "execution_count": 41,
   "metadata": {},
   "outputs": [
    {
     "data": {
      "text/plain": [
       "'./TMP/content/notebooks.ipynb'"
      ]
     },
     "execution_count": 41,
     "metadata": {},
     "output_type": "execute_result"
    }
   ],
   "source": [
    "ipynb_file = './jupyter_book/book_template/content/features/notebooks.ipynb'\n",
    "\n",
    "import os\n",
    "tmp_folder = './TMP'\n",
    "path_out = op.join(tmp_folder, 'content', op.basename(ipynb_file))\n",
    "os.makedirs(op.join(tmp_folder, 'content'), exist_ok=True)\n",
    "sh.copy2(ipynb_file, path_out)"
   ]
  },
  {
   "cell_type": "markdown",
   "metadata": {},
   "source": [
    "## Hide code cells"
   ]
  },
  {
   "cell_type": "code",
   "execution_count": 42,
   "metadata": {},
   "outputs": [],
   "source": [
    "ntbk = nbf.read(path_out, nbf.NO_CONVERT)\n",
    "\n",
    "for cell in ntbk['cells']:\n",
    "    if cell['cell_type'] == 'code':\n",
    "        tags = cell['metadata'].get('tags', [])\n",
    "        if not 'hidecode' in tags:\n",
    "            tags.append('hidecode')\n",
    "        cell['metadata']['tags'] = tags\n",
    "\n",
    "nbf.write(ntbk, path_out)\n",
    "    "
   ]
  },
  {
   "cell_type": "markdown",
   "metadata": {},
   "source": [
    "## Build the book"
   ]
  },
  {
   "cell_type": "code",
   "execution_count": 43,
   "metadata": {},
   "outputs": [],
   "source": [
    "yaml = YAML()\n",
    "config = {'show_sidebar': False}\n",
    "with open(op.join(tmp_folder, 'toc.yml'), 'w') as ff:\n",
    "    yaml.dump(config, ff)"
   ]
  },
  {
   "cell_type": "code",
   "execution_count": 44,
   "metadata": {},
   "outputs": [
    {
     "name": "stdout",
     "output_type": "stream",
     "text": [
      "Copying new book to: ./TMP_book\n",
      "Copying over your content folder...\n",
      "TOC written to: ./TMP_book/_data/toc.yml\n",
      "Updating template configuration file with the values in ./TMP/toc.yml\n",
      "\u001b[92m\n",
      "\n",
      "================================================================================\n",
      "\n",
      "\u001b[0m\n",
      "\n",
      "Finished creating a new book at `./TMP_book`\n",
      "- Your content is in `./TMP_book/content` \n",
      "\n",
      "- A Table of Contents file is at `./TMP_book/_data/toc.yml`.\n",
      "  You should check its contents, make sure it references your\n",
      "  content correctly, and ensure it has the correct order.\n",
      "\n",
      "- Your configuration file is at `./TMP_book/_config.yml`.\n",
      "  You should check its contents and double-check that the values  are correct for your site.\n",
      "\n",
      "\n",
      "Notes\n",
      "=====\n",
      "- Check your Table of Contents file (`_data/toc.yml`). Because you specified a content foler\n",
      "  but no Table of Conents (`--toc`), we auto-generated a TOC file file using folder and file\n",
      "  names. You should check its contents and clean it up so that it has the structure you want!\n",
      "\n",
      "- We've added a CC-BY-SA license for you in ./TMP_book/content/LICENSE.md\n",
      "  This is a reasonable license for most book content, though feel free\n",
      "  to change it if you like!\n",
      "\u001b[92m\n",
      "\n",
      "================================================================================\n",
      "\n",
      "\u001b[0m\n"
     ]
    }
   ],
   "source": [
    "!jupyter-book create TMP_book --content-folder ./TMP/content --overwrite --config ./TMP/toc.yml"
   ]
  },
  {
   "cell_type": "code",
   "execution_count": 45,
   "metadata": {},
   "outputs": [
    {
     "name": "stdout",
     "output_type": "stream",
     "text": [
      "Convert and copy notebook/md files...\n",
      "100%|█████████████████████████████████████████████| 1/1 [00:02<00:00,  2.17s/it]\n",
      "Copying non-content files inside `content/`...\n",
      "\u001b[92m\n",
      "\n",
      "================================================================================\n",
      "\n",
      "\u001b[0m\n",
      "Generated 1 new files\n",
      "Skipped 0 already-built files\n",
      "Your Jupyter Book is now in `_build/`.\n",
      "Demo your Jupyter book with `make serve` or push to GitHub!\n",
      "\u001b[92m\n",
      "\n",
      "================================================================================\n",
      "\n",
      "\u001b[0m\n"
     ]
    }
   ],
   "source": [
    "!jupyter-book build ./TMP_book/"
   ]
  },
  {
   "cell_type": "code",
   "execution_count": null,
   "metadata": {},
   "outputs": [],
   "source": []
  }
 ],
 "metadata": {
  "kernelspec": {
   "display_name": "Python 3",
   "language": "python",
   "name": "python3"
  },
  "language_info": {
   "codemirror_mode": {
    "name": "ipython",
    "version": 3
   },
   "file_extension": ".py",
   "mimetype": "text/x-python",
   "name": "python",
   "nbconvert_exporter": "python",
   "pygments_lexer": "ipython3",
   "version": "3.6.5"
  }
 },
 "nbformat": 4,
 "nbformat_minor": 2
}
